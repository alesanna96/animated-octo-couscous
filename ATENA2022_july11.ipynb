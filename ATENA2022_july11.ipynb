{
  "nbformat": 4,
  "nbformat_minor": 0,
  "metadata": {
    "colab": {
      "name": "ATENA2022-july11.ipynb",
      "provenance": [],
      "mount_file_id": "1mtCIsm6DrEIGy7WgPjODuqgDx7R4kNcL",
      "authorship_tag": "ABX9TyNub3ij1qXiC1FdFjwW6B48",
      "include_colab_link": true
    },
    "kernelspec": {
      "name": "python3",
      "display_name": "Python 3"
    },
    "language_info": {
      "name": "python"
    }
  },
  "cells": [
    {
      "cell_type": "markdown",
      "metadata": {
        "id": "view-in-github",
        "colab_type": "text"
      },
      "source": [
        "<a href=\"https://colab.research.google.com/github/alesanna96/animated-octo-couscous/blob/master/ATENA2022_july11.ipynb\" target=\"_parent\"><img src=\"https://colab.research.google.com/assets/colab-badge.svg\" alt=\"Open In Colab\"/></a>"
      ]
    },
    {
      "cell_type": "code",
      "source": [
        "import pandas as pd\n",
        "import os\n",
        "import numpy as np\n",
        "from scipy.signal import argrelextrema\n",
        "from scipy.stats import mode\n",
        "from scipy.integrate import simps\n",
        "from matplotlib import pyplot as plt\n",
        "from copy import deepcopy"
      ],
      "metadata": {
        "id": "y05IoJkUxcUc"
      },
      "execution_count": 2,
      "outputs": []
    },
    {
      "cell_type": "code",
      "source": [
        "datasetPath = r\"/content/drive/MyDrive/Colab Notebooks/atena2022/Refractive Index Measurements\""
      ],
      "metadata": {
        "id": "otVSsWSOt4iI"
      },
      "execution_count": 1,
      "outputs": []
    },
    {
      "cell_type": "code",
      "source": [
        "def run_fast_scandir(dir, ext=[]):  # dir: str, ext: list  # thanks stackoverflow\n",
        "    subfolders, files = [], []\n",
        "\n",
        "    for f in os.scandir(dir):\n",
        "        if f.is_dir():\n",
        "            subfolders.append(f.path)\n",
        "        if f.is_file():\n",
        "            if os.path.splitext(f.name)[1].lower() in ext or len(ext) < 1:\n",
        "                files.append(f.path)\n",
        "\n",
        "\n",
        "    for dir in list(subfolders):\n",
        "        sf, f = run_fast_scandir(dir, ext)\n",
        "        subfolders.extend(sf)\n",
        "        files.extend(f)\n",
        "    return subfolders, files"
      ],
      "metadata": {
        "id": "42wGjD3M5uwr"
      },
      "execution_count": 7,
      "outputs": []
    },
    {
      "cell_type": "code",
      "source": [
        "subfolders, files = run_fast_scandir(datasetPath, ext=[\".csv\"])"
      ],
      "metadata": {
        "id": "XxUNyYlo55kK"
      },
      "execution_count": 8,
      "outputs": []
    },
    {
      "cell_type": "code",
      "source": [
        "def csv_to_df(csvPath, skipNum=24):\n",
        "  return pd.read_csv(csvPath, sep=',', header=None, names=['Wave_Length', 'Amplitude'], skiprows=skipNum)"
      ],
      "metadata": {
        "id": "SAwXoSbrkkpl"
      },
      "execution_count": 9,
      "outputs": []
    },
    {
      "cell_type": "code",
      "source": [
        "def restrictROI(dfLoc):\n",
        "  df1 = deepcopy(dfLoc)\n",
        "  cond = df1[(df1.Amplitude >= (df1.Amplitude.max() - df1.Amplitude.std())) & \\\n",
        "         (df1.Amplitude <= (df1.Amplitude.max() + df1.Amplitude.std()))]\n",
        "  return cond"
      ],
      "metadata": {
        "id": "qcep3k26-gCj"
      },
      "execution_count": 22,
      "outputs": []
    },
    {
      "cell_type": "code",
      "source": [
        "def restrictROItozero(dfLocal):\n",
        "  df1 = deepcopy(dfLocal)\n",
        "  df1[\"Amplitude\"][~((df1.Amplitude >= (df1.Amplitude.max() - df1.Amplitude.std())) & \\\n",
        "     (df1.Amplitude <= (df1.Amplitude.max() + df1.Amplitude.std())))] = 0\n",
        "  return df1"
      ],
      "metadata": {
        "id": "_JAIPvKyEoEt"
      },
      "execution_count": 12,
      "outputs": []
    },
    {
      "cell_type": "markdown",
      "source": [
        ""
      ],
      "metadata": {
        "id": "n05Zh2SpdYYp"
      }
    },
    {
      "cell_type": "code",
      "source": [
        "samplePath = os.path.join(datasetPath, r\"1stSeries_07.05.21/1.48/W0000.CSV\")\n",
        "df_0 = csv_to_df(samplePath)\n",
        "df_res = restrictROItozero(df_0)\n",
        "\n",
        "plt.plot(df_res.Wave_Length, df_res.Amplitude)\n",
        "plt.plot(df_0.Wave_Length, df_0.Amplitude, color='red')"
      ],
      "metadata": {
        "colab": {
          "base_uri": "https://localhost:8080/",
          "height": 282
        },
        "id": "J5g6aH90A1dG",
        "outputId": "f04dd3d9-fd5f-4c5c-f5b1-b9e834beb493"
      },
      "execution_count": 37,
      "outputs": [
        {
          "output_type": "execute_result",
          "data": {
            "text/plain": [
              "[<matplotlib.lines.Line2D at 0x7f555ede2490>]"
            ]
          },
          "metadata": {},
          "execution_count": 37
        },
        {
          "output_type": "display_data",
          "data": {
            "text/plain": [
              "<Figure size 432x288 with 1 Axes>"
            ],
            "image/png": "[encoded data removed]"
          },
          "metadata": {
            "needs_background": "light"
          }
        }
      ]
    },
    {
      "cell_type": "code",
      "source": [
        "def getLocalMaxima(dataArray):\n",
        "  # for local maxima\n",
        "  return dataArray[argrelextrema(dataArray, np.greater)[0]]\n",
        "\n",
        "def getLocalMinima(dataArray):\n",
        "  # for local minima\n",
        "  return dataArray[argrelextrema(dataArray, np.less)[0]]\n",
        "\n",
        "def getMean(dataArray):\n",
        "  return np.mean(dataArray)\n",
        "\n",
        "def getMedian(dataArray):\n",
        "  return np.median(dataArray)\n",
        "\n",
        "def getStd(dataArray):\n",
        "  return np.std(dataArray)\n",
        "\n",
        "def getMode(dataArray):\n",
        "  return mode(dataArray).mode[0]\n",
        "\n",
        "def getAmount(dataArray):\n",
        "  return dataArray.size\n",
        "\n",
        "def getAreaUnderCurve(dataArray):\n",
        "  return simps(dataArray)\n",
        "\n",
        "def buildFeatures(df, dataArray):\n",
        "  localMaxima = getLocalMaxima(dataArray)\n",
        "  localMinima = getLocalMinima(dataArray)\n",
        "  features = \\\n",
        "  {\"Gmax\": df.Amplitude.max(),\n",
        "   \"Gmin\": df.Amplitude.min(),\n",
        "   \"Gstd\": df.Amplitude.std(),\n",
        "   \"Gmean\": df.Amplitude.mean(),\n",
        "   \"GfirstQ\": df.Amplitude.quantile(0.75),\n",
        "   \"GsecondQ\": df.Amplitude.quantile(0.5),\n",
        "   \"GthirdQ\": df.Amplitude.quantile(0.25),\n",
        "   \"LmaxMean\": getMean(localMaxima),\n",
        "   \"LmaxMedian\": getMedian(localMaxima),\n",
        "   \"LmaxStd\": getStd(localMaxima),\n",
        "   \"LmaxMode\": getMode(localMaxima),\n",
        "   \"LmaxAmount\": getAmount(localMaxima),\n",
        "   \"LminMean\": getMean(localMinima),\n",
        "   \"LminMedian\": getMedian(localMinima),\n",
        "   \"LminStd\": getStd(localMinima),\n",
        "   \"LminMode\": getMode(localMinima),\n",
        "   \"LminAmount\": getAmount(localMinima),\n",
        "   \"RestrictedRegionArea\": getAreaUnderCurve(dataArray),\n",
        "   \"OriginalArea\": getAreaUnderCurve(df.Amplitude.to_numpy())\n",
        "  }\n",
        "  return features"
      ],
      "metadata": {
        "id": "DQrvvRbtHrB8"
      },
      "execution_count": 15,
      "outputs": []
    },
    {
      "cell_type": "code",
      "source": [
        "def csvToFeaturesDict(csvPath):\n",
        "  df_0 = pd.read_csv(csvPath, sep=',', header=None, \\\n",
        "                     names=['Wave_Length', 'Amplitude'], skiprows=24)\n",
        "  df_restricted = restrictROI(df_0)\n",
        "  df_ampl_numpified = df_restricted.to_numpy()[:, 1]\n",
        "  dForm = buildFeatures(df_0, df_ampl_numpified)\n",
        "  return dForm\n",
        "\n",
        "res_df = pd.DataFrame()\n",
        "\n",
        "for index, filepath in enumerate(files):\n",
        "  if filepath.endswith(\"REF.CSV\"):\n",
        "    continue\n",
        "  # print(filepath)\n",
        "  ref_index = float(os.path.basename(os.path.dirname(filepath)))\n",
        "  ref_cond = ref_index > 1.38\n",
        "  print(ref_index, ref_cond)\n",
        "  dictFeatures = csvToFeaturesDict(filepath)\n",
        "  dictFeatures.update({\"isCancer\": ref_cond})\n",
        "\n",
        "  dfFeatures = pd.DataFrame(dictFeatures, index=[index])\n",
        "  res_df = res_df.append(dfFeatures)"
      ],
      "metadata": {
        "id": "aTdQHW85QqGw"
      },
      "execution_count": null,
      "outputs": []
    },
    {
      "cell_type": "code",
      "source": [
        "res_df.to_csv(\"featurizedStuff.csv\", index=False)"
      ],
      "metadata": {
        "id": "wheflT6PSHRO"
      },
      "execution_count": 28,
      "outputs": []
    }
  ]
}